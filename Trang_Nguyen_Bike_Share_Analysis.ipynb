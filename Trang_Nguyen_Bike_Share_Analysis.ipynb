{
 "cells": [
  {
   "cell_type": "markdown",
   "metadata": {},
   "source": [
    "# 2016 US Bike Share Activity Snapshot\n",
    "\n",
    "## Table of Contents\n",
    "- [Introduction](#intro)\n",
    "- [Posing Questions](#pose_questions)\n",
    "- [Data Collection and Wrangling](#wrangling)\n",
    "  - [Condensing the Trip Data](#condensing)\n",
    "- [Exploratory Data Analysis](#eda)\n",
    "  - [Statistics](#statistics)\n",
    "  - [Visualizations](#visualizations)\n",
    "- [Performing Your Own Analysis](#eda_continued)\n",
    "- [Conclusions](#conclusions)\n",
    "\n",
    "<a id='intro'></a>\n",
    "## Introduction\n",
    "\n",
    "> **Tip**: Quoted sections like this will provide helpful instructions on how to navigate and use a Jupyter notebook.\n",
    "\n",
    "Over the past decade, bicycle-sharing systems have been growing in number and popularity in cities across the world. Bicycle-sharing systems allow users to rent bicycles for short trips, typically 30 minutes or less. Thanks to the rise in information technologies, it is easy for a user of the system to access a dock within the system to unlock or return bicycles. These technologies also provide a wealth of data that can be used to explore how these bike-sharing systems are used.\n",
    "\n",
    "In this project, you will perform an exploratory analysis on data provided by [Motivate](https://www.motivateco.com/), a bike-share system provider for many major cities in the United States. You will compare the system usage between three large cities: New York City, Chicago, and Washington, DC. You will also see if there are any differences within each system for those users that are registered, regular users and those users that are short-term, casual users."
   ]
  },
  {
   "cell_type": "markdown",
   "metadata": {},
   "source": [
    "<a id='pose_questions'></a>\n",
    "## Posing Questions\n",
    "\n",
    "Before looking at the bike sharing data, you should start by asking questions you might want to understand about the bike share data. Consider, for example, if you were working for Motivate. What kinds of information would you want to know about in order to make smarter business decisions? If you were a user of the bike-share service, what factors might influence how you would want to use the service?\n",
    "\n",
    "**Question 1**: Write at least two questions related to bike sharing that you think could be answered by data.\n",
    "\n",
    "**Answer**: \n",
    "To inform business decisions, I would explore:\n",
    "- The duration of trip distribution for both subsribers and customers to determine the cut-off duration (currently it is the 30-minute mark)\n",
    "- The usage of customers throughout the days and months and seasonality to make inventory and pricing decisions\n",
    "- The usage of customers in pick up and return locations to make inventory and strategy decisions\n",
    "- Users' demographics\n",
    "- How far customers go using the bikes\n",
    "\n",
    "To inform customer decisions, I would explore:\n",
    "- The popular pick up and return locations\n",
    "- The opimal duration to use the bikes\n",
    "- What day or what month or what season they would want to use the bikes\n",
    "\n",
    "\n",
    "> **Tip**: If you double click on this cell, you will see the text change so that all of the formatting is removed. This allows you to edit this block of text. This block of text is written using [Markdown](http://daringfireball.net/projects/markdown/syntax), which is a way to format text using headers, links, italics, and many other options using a plain-text syntax. You will also use Markdown later in the Nanodegree program. Use **Shift** + **Enter** or **Shift** + **Return** to run the cell and show its rendered form."
   ]
  },
  {
   "cell_type": "markdown",
   "metadata": {},
   "source": [
    "<a id='wrangling'></a>\n",
    "## Data Collection and Wrangling\n",
    "\n",
    "Now it's time to collect and explore our data. In this project, we will focus on the record of individual trips taken in 2016 from our selected cities: New York City, Chicago, and Washington, DC. Each of these cities has a page where we can freely download the trip data.:\n",
    "\n",
    "- New York City (Citi Bike): [Link](https://www.citibikenyc.com/system-data)\n",
    "- Chicago (Divvy): [Link](https://www.divvybikes.com/system-data)\n",
    "- Washington, DC (Capital Bikeshare): [Link](https://www.capitalbikeshare.com/system-data)\n",
    "\n",
    "If you visit these pages, you will notice that each city has a different way of delivering its data. Chicago updates with new data twice a year, Washington DC is quarterly, and New York City is monthly. **However, you do not need to download the data yourself.** The data has already been collected for you in the `/data/` folder of the project files. While the original data for 2016 is spread among multiple files for each city, the files in the `/data/` folder collect all of the trip data for the year into one file per city. Some data wrangling of inconsistencies in timestamp format within each city has already been performed for you. In addition, a random 2% sample of the original data is taken to make the exploration more manageable. \n",
    "\n",
    "**Question 2**: However, there is still a lot of data for us to investigate, so it's a good idea to start off by looking at one entry from each of the cities we're going to analyze. Run the first code cell below to load some packages and functions that you'll be using in your analysis. Then, complete the second code cell to print out the first trip recorded from each of the cities (the second line of each data file).\n",
    "\n",
    "> **Tip**: You can run a code cell like you formatted Markdown cells above by clicking on the cell and using the keyboard shortcut **Shift** + **Enter** or **Shift** + **Return**. Alternatively, a code cell can be executed using the **Play** button in the toolbar after selecting it. While the cell is running, you will see an asterisk in the message to the left of the cell, i.e. `In [*]:`. The asterisk will change into a number to show that execution has completed, e.g. `In [1]`. If there is output, it will show up as `Out [1]:`, with an appropriate number to match the \"In\" number."
   ]
  },
  {
   "cell_type": "code",
   "execution_count": 121,
   "metadata": {
    "collapsed": true
   },
   "outputs": [],
   "source": [
    "## import all necessary packages and functions.\n",
    "import csv # read and write csv files\n",
    "from datetime import datetime # operations to parse dates\n",
    "from pprint import pprint # use to print data structures like dictionaries in\n",
    "                          # a nicer way than the base print function."
   ]
  },
  {
   "cell_type": "code",
   "execution_count": 122,
   "metadata": {},
   "outputs": [
    {
     "name": "stdout",
     "output_type": "stream",
     "text": [
      "\n",
      "City: NYC\n",
      "OrderedDict([('tripduration', '686'),\n",
      "             ('starttime', '1/1/2016 00:21:17'),\n",
      "             ('stoptime', '1/1/2016 00:32:44'),\n",
      "             ('start station id', '3143'),\n",
      "             ('start station name', '5 Ave & E 78 St'),\n",
      "             ('start station latitude', '40.77682863439968'),\n",
      "             ('start station longitude', '-73.96388769149779'),\n",
      "             ('end station id', '3132'),\n",
      "             ('end station name', 'E 59 St & Madison Ave'),\n",
      "             ('end station latitude', '40.76350532'),\n",
      "             ('end station longitude', '-73.97109243'),\n",
      "             ('bikeid', '23514'),\n",
      "             ('usertype', 'Subscriber'),\n",
      "             ('birth year', '1960'),\n",
      "             ('gender', '1')])\n",
      "\n",
      "City: Chicago\n",
      "OrderedDict([('trip_id', '9080521'),\n",
      "             ('starttime', '3/31/2016 22:59'),\n",
      "             ('stoptime', '3/31/2016 23:02'),\n",
      "             ('bikeid', '3439'),\n",
      "             ('tripduration', '198'),\n",
      "             ('from_station_id', '259'),\n",
      "             ('from_station_name', 'California Ave & Francis Pl'),\n",
      "             ('to_station_id', '276'),\n",
      "             ('to_station_name', 'California Ave & North Ave'),\n",
      "             ('usertype', 'Subscriber'),\n",
      "             ('gender', 'Male'),\n",
      "             ('birthyear', '1974')])\n",
      "\n",
      "City: Washington\n",
      "OrderedDict([('Duration (ms)', '587551'),\n",
      "             ('Start date', '3/31/2016 22:46'),\n",
      "             ('End date', '3/31/2016 22:56'),\n",
      "             ('Start station number', '31105'),\n",
      "             ('Start station', '14th & Harvard St NW'),\n",
      "             ('End station number', '31266'),\n",
      "             ('End station', '11th & M St NW'),\n",
      "             ('Bike number', 'W21385'),\n",
      "             ('Member Type', 'Registered')])\n"
     ]
    }
   ],
   "source": [
    "def print_first_point(filename):\n",
    "    \"\"\"\n",
    "    This function prints and returns the first data point (second row) from\n",
    "    a csv file that includes a header row.\n",
    "    \"\"\"\n",
    "    # print city name for reference\n",
    "    city = filename.split('-')[0].split('/')[-1]\n",
    "    print('\\nCity: {}'.format(city))\n",
    "    \n",
    "    with open(filename, 'r') as f_in:\n",
    "        ## TODO: Use the csv library to set up a DictReader object. ##\n",
    "        ## see https://docs.python.org/3/library/csv.html           ##\n",
    "        trip_reader = csv.DictReader(f_in)\n",
    "         \n",
    "        ## TODO: Use a function on the DictReader object to read the     ##\n",
    "        ## first trip from the data file and store it in a variable.     ##\n",
    "        ## see https://docs.python.org/3/library/csv.html#reader-objects ##\n",
    "        first_trip = next(trip_reader)\n",
    "        \n",
    "        ## TODO: Use the pprint library to print the first trip. ##\n",
    "        ## see https://docs.python.org/3/library/pprint.html     ##\n",
    "        pprint(next(trip_reader))\n",
    "        \n",
    "    # output city name and first trip for later testing\n",
    "    return (city, first_trip)\n",
    "\n",
    "# list of files for each city\n",
    "data_files = ['./data/NYC-CitiBike-2016.csv',\n",
    "              './data/Chicago-Divvy-2016.csv',\n",
    "              './data/Washington-CapitalBikeshare-2016.csv',]\n",
    "\n",
    "# print the first trip from each file, store in dictionary\n",
    "example_trips = {}\n",
    "for data_file in data_files:\n",
    "    city, first_trip = print_first_point(data_file)\n",
    "    example_trips[city] = first_trip"
   ]
  },
  {
   "cell_type": "markdown",
   "metadata": {},
   "source": [
    "If everything has been filled out correctly, you should see below the printout of each city name (which has been parsed from the data file name) that the first trip has been parsed in the form of a dictionary. When you set up a `DictReader` object, the first row of the data file is normally interpreted as column names. Every other row in the data file will use those column names as keys, as a dictionary is generated for each row.\n",
    "\n",
    "This will be useful since we can refer to quantities by an easily-understandable label instead of just a numeric index. For example, if we have a trip stored in the variable `row`, then we would rather get the trip duration from `row['duration']` instead of `row[0]`.\n",
    "\n",
    "<a id='condensing'></a>\n",
    "### Condensing the Trip Data\n",
    "\n",
    "It should also be observable from the above printout that each city provides different information. Even where the information is the same, the column names and formats are sometimes different. To make things as simple as possible when we get to the actual exploration, we should trim and clean the data. Cleaning the data makes sure that the data formats across the cities are consistent, while trimming focuses only on the parts of the data we are most interested in to make the exploration easier to work with.\n",
    "\n",
    "You will generate new data files with five values of interest for each trip: trip duration, starting month, starting hour, day of the week, and user type. Each of these may require additional wrangling depending on the city:\n",
    "\n",
    "- **Duration**: This has been given to us in seconds (New York, Chicago) or milliseconds (Washington). A more natural unit of analysis will be if all the trip durations are given in terms of minutes.\n",
    "- **Month**, **Hour**, **Day of Week**: Ridership volume is likely to change based on the season, time of day, and whether it is a weekday or weekend. Use the start time of the trip to obtain these values. The New York City data includes the seconds in their timestamps, while Washington and Chicago do not. The [`datetime`](https://docs.python.org/3/library/datetime.html) package will be very useful here to make the needed conversions.\n",
    "- **User Type**: It is possible that users who are subscribed to a bike-share system will have different patterns of use compared to users who only have temporary passes. Washington divides its users into two types: 'Registered' for users with annual, monthly, and other longer-term subscriptions, and 'Casual', for users with 24-hour, 3-day, and other short-term passes. The New York and Chicago data uses 'Subscriber' and 'Customer' for these groups, respectively. For consistency, you will convert the Washington labels to match the other two.\n",
    "\n",
    "\n",
    "**Question 3a**: Complete the helper functions in the code cells below to address each of the cleaning tasks described above."
   ]
  },
  {
   "cell_type": "code",
   "execution_count": 123,
   "metadata": {
    "collapsed": true
   },
   "outputs": [],
   "source": [
    "def duration_in_mins(datum, city):\n",
    "    \"\"\"\n",
    "    Takes as input a dictionary containing info about a single trip (datum) and\n",
    "    its origin city (city) and returns the trip duration in units of minutes.\n",
    "    \n",
    "    Remember that Washington is in terms of milliseconds while Chicago and NYC\n",
    "    are in terms of seconds. \n",
    "    \n",
    "    HINT: The csv module reads in all of the data as strings, including numeric\n",
    "    values. You will need a function to convert the strings into an appropriate\n",
    "    numeric type when making your transformations.\n",
    "    see https://docs.python.org/3/library/functions.html\n",
    "    \"\"\"\n",
    "    \n",
    "    # YOUR CODE HERE\n",
    "    for data in datum:\n",
    "        if city == 'NYC' or city == 'Chicago':\n",
    "            duration = int(datum['tripduration'])/60\n",
    "        else:\n",
    "            duration = int(datum['Duration (ms)'])/60000\n",
    "    return duration\n",
    "\n",
    "# Some tests to check that your code works. There should be no output if all of\n",
    "# the assertions pass. The `example_trips` dictionary was obtained from when\n",
    "# you printed the first trip from each of the original data files.\n",
    "tests = {'NYC': 13.9833,\n",
    "         'Chicago': 15.4333,\n",
    "         'Washington': 7.1231}\n",
    "\n",
    "for city in tests:\n",
    "    assert abs(duration_in_mins(example_trips[city], city) - tests[city]) < .001"
   ]
  },
  {
   "cell_type": "code",
   "execution_count": 124,
   "metadata": {
    "collapsed": true,
    "scrolled": true
   },
   "outputs": [],
   "source": [
    "def time_of_trip(datum, city):\n",
    "    \"\"\"\n",
    "    Takes as input a dictionary containing info about a single trip (datum) and\n",
    "    its origin city (city) and returns the month, hour, and day of the week in\n",
    "    which the trip was made.\n",
    "    \n",
    "    Remember that NYC includes seconds, while Washington and Chicago do not.\n",
    "    \n",
    "    HINT: You should use the datetime module to parse the original date\n",
    "    strings into a format that is useful for extracting the desired information.\n",
    "    see https://docs.python.org/3/library/datetime.html#strftime-and-strptime-behavior\n",
    "    \"\"\"\n",
    "    \n",
    "    # YOUR CODE HERE\n",
    "    for data in datum:\n",
    "        if city == 'NYC':\n",
    "            time = datetime.strptime(datum['starttime'], '%m/%d/%Y %H:%M:%S')\n",
    "        elif city == 'Chicago':\n",
    "            time = datetime.strptime(datum['starttime'], '%m/%d/%Y %H:%M')\n",
    "        else:\n",
    "            time = datetime.strptime(datum['Start date'], '%m/%d/%Y %H:%M')\n",
    "    \n",
    "    month_str = time.strftime('%m')\n",
    "    hour_str = time.strftime('%H')\n",
    "    month = int(month_str)\n",
    "    hour = int(hour_str)\n",
    "    day_of_week = time.strftime('%A')\n",
    "    \n",
    "    return (month, hour, day_of_week)\n",
    "\n",
    "# Some tests to check that your code works. There should be no output if all of\n",
    "# the assertions pass. The `example_trips` dictionary was obtained from when\n",
    "# you printed the first trip from each of the original data files.\n",
    "tests = {'NYC': (1, 0, 'Friday'),\n",
    "         'Chicago': (3, 23, 'Thursday'),\n",
    "         'Washington': (3, 22, 'Thursday')}\n",
    "\n",
    "for city in tests:\n",
    "    assert time_of_trip(example_trips[city], city) == tests[city]"
   ]
  },
  {
   "cell_type": "code",
   "execution_count": 125,
   "metadata": {
    "collapsed": true
   },
   "outputs": [],
   "source": [
    "def type_of_user(datum, city):\n",
    "    \"\"\"\n",
    "    Takes as input a dictionary containing info about a single trip (datum) and\n",
    "    its origin city (city) and returns the type of system user that made the\n",
    "    trip.\n",
    "    \n",
    "    Remember that Washington has different category names compared to Chicago\n",
    "    and NYC. \n",
    "    \"\"\"\n",
    "    \n",
    "    # YOUR CODE HERE\n",
    "    for data in datum:\n",
    "        if city == 'NYC' or city == 'Chicago':\n",
    "            user_type = datum['usertype']\n",
    "        elif (city == 'Washington') and (datum['Member Type'] == \"Registered\"):\n",
    "            user_type = 'Subscriber'\n",
    "        elif (city == 'Washington') and (datum['Member Type'] == \"Casual\"):\n",
    "            user_type = 'Customer'\n",
    "    return user_type\n",
    "\n",
    "# Some tests to check that your code works. There should be no output if all of\n",
    "# the assertions pass. The `example_trips` dictionary was obtained from when\n",
    "# you printed the first trip from each of the original data files.\n",
    "tests = {'NYC': 'Customer',\n",
    "         'Chicago': 'Subscriber',\n",
    "         'Washington': 'Subscriber'}\n",
    "\n",
    "for city in tests:\n",
    "    assert type_of_user(example_trips[city], city) == tests[city]"
   ]
  },
  {
   "cell_type": "markdown",
   "metadata": {},
   "source": [
    "**Question 3b**: Now, use the helper functions you wrote above to create a condensed data file for each city consisting only of the data fields indicated above. In the `/examples/` folder, you will see an example datafile from the [Bay Area Bike Share](http://www.bayareabikeshare.com/open-data) before and after conversion. Make sure that your output is formatted to be consistent with the example file."
   ]
  },
  {
   "cell_type": "code",
   "execution_count": 126,
   "metadata": {
    "collapsed": true
   },
   "outputs": [],
   "source": [
    "def condense_data(in_file, out_file, city):\n",
    "    \"\"\"\n",
    "    This function takes full data from the specified input file\n",
    "    and writes the condensed data to a specified output file. The city\n",
    "    argument determines how the input file will be parsed.\n",
    "    \n",
    "    HINT: See the cell below to see how the arguments are structured!\n",
    "    \"\"\"\n",
    "    \n",
    "    with open(out_file, 'w') as f_out, open(in_file, 'r') as f_in:\n",
    "        # set up csv DictWriter object - writer requires column names for the\n",
    "        # first row as the \"fieldnames\" argument\n",
    "        out_colnames = ['duration', 'month', 'hour', 'day_of_week', 'user_type']        \n",
    "        trip_writer = csv.DictWriter(f_out, fieldnames = out_colnames)\n",
    "        trip_writer.writeheader()\n",
    "        \n",
    "        ## TODO: set up csv DictReader object ##\n",
    "        trip_reader = csv.DictReader(f_in)\n",
    "\n",
    "        # collect data from and process each row\n",
    "        for row in trip_reader:\n",
    "            # set up a dictionary to hold the values for the cleaned and trimmed\n",
    "            # data point\n",
    "            new_point = {}\n",
    "            duration = duration_in_mins(row, city)\n",
    "            month, hour, day_of_week = time_of_trip(row, city)\n",
    "            user_type = type_of_user(row, city)\n",
    "                                  \n",
    "            ## TODO: use the helper functions to get the cleaned data from  ##\n",
    "            ## the original data dictionaries.                              ##\n",
    "            ## Note that the keys for the new_point dictionary should match ##\n",
    "            ## the column names set in the DictWriter object above.         ##\n",
    "          \n",
    "            new_point['duration'] = duration\n",
    "            new_point['month'] = month\n",
    "            new_point['hour'] = hour\n",
    "            new_point['day_of_week'] = day_of_week \n",
    "            new_point['user_type'] = user_type\n",
    "            \n",
    "            ## TODO: write the processed information to the output file.     ##\n",
    "            ## see https://docs.python.org/3/library/csv.html#writer-objects ##\n",
    "           \n",
    "            trip_writer.writerow (new_point)"
   ]
  },
  {
   "cell_type": "code",
   "execution_count": 127,
   "metadata": {},
   "outputs": [
    {
     "name": "stdout",
     "output_type": "stream",
     "text": [
      "\n",
      "City: Washington\n",
      "OrderedDict([('duration', '9.792516666666666'),\n",
      "             ('month', '3'),\n",
      "             ('hour', '22'),\n",
      "             ('day_of_week', 'Thursday'),\n",
      "             ('user_type', 'Subscriber')])\n",
      "\n",
      "City: Chicago\n",
      "OrderedDict([('duration', '3.3'),\n",
      "             ('month', '3'),\n",
      "             ('hour', '22'),\n",
      "             ('day_of_week', 'Thursday'),\n",
      "             ('user_type', 'Subscriber')])\n",
      "\n",
      "City: NYC\n",
      "OrderedDict([('duration', '11.433333333333334'),\n",
      "             ('month', '1'),\n",
      "             ('hour', '0'),\n",
      "             ('day_of_week', 'Friday'),\n",
      "             ('user_type', 'Subscriber')])\n"
     ]
    }
   ],
   "source": [
    "# Run this cell to check your work\n",
    "city_info = {'Washington': {'in_file': './data/Washington-CapitalBikeshare-2016.csv',\n",
    "                            'out_file': './data/Washington-2016-Summary.csv'},\n",
    "             'Chicago': {'in_file': './data/Chicago-Divvy-2016.csv',\n",
    "                         'out_file': './data/Chicago-2016-Summary.csv'},\n",
    "             'NYC': {'in_file': './data/NYC-CitiBike-2016.csv',\n",
    "                     'out_file': './data/NYC-2016-Summary.csv'}}\n",
    "\n",
    "for city, filenames in city_info.items():\n",
    "    condense_data(filenames['in_file'], filenames['out_file'], city)\n",
    "    print_first_point(filenames['out_file'])"
   ]
  },
  {
   "cell_type": "markdown",
   "metadata": {},
   "source": [
    "> **Tip**: If you save a jupyter Notebook, the output from running code blocks will also be saved. However, the state of your workspace will be reset once a new session is started. Make sure that you run all of the necessary code blocks from your previous session to reestablish variables and functions before picking up where you last left off.\n",
    "\n",
    "<a id='eda'></a>\n",
    "## Exploratory Data Analysis\n",
    "\n",
    "Now that you have the data collected and wrangled, you're ready to start exploring the data. In this section you will write some code to compute descriptive statistics from the data. You will also be introduced to the `matplotlib` library to create some basic histograms of the data.\n",
    "\n",
    "<a id='statistics'></a>\n",
    "### Statistics\n",
    "\n",
    "First, let's compute some basic counts. The first cell below contains a function that uses the csv module to iterate through a provided data file, returning the number of trips made by subscribers and customers. The second cell runs this function on the example Bay Area data in the `/examples/` folder. Modify the cells to answer the question below.\n",
    "\n",
    "**Question 4a**: Which city has the highest number of trips? Which city has the highest proportion of trips made by subscribers? Which city has the highest proportion of trips made by short-term customers?\n",
    "\n",
    "**Answer**: \n",
    "New York City has the highest number of trips. \n",
    "New York City has the highest proportion of trips made by subscribers.\n",
    "Chicago has the highest proportion of trips made by short-term customers."
   ]
  },
  {
   "cell_type": "code",
   "execution_count": 128,
   "metadata": {
    "collapsed": true
   },
   "outputs": [],
   "source": [
    "def number_of_trips(filename):\n",
    "    \"\"\"\n",
    "    This function reads in a file with trip data and reports the number of\n",
    "    trips made by subscribers, customers, and total overall.\n",
    "    \"\"\"\n",
    "    with open(filename, 'r') as f_in:\n",
    "        # print city name for reference\n",
    "        city = filename.split('-')[0].split('/')[-1]\n",
    "        print('\\nCity: {}'.format(city))\n",
    "        \n",
    "        # set up csv reader object\n",
    "        reader = csv.DictReader(f_in)\n",
    "        \n",
    "        # initialize count variables\n",
    "        n_subscribers = 0\n",
    "        n_customers = 0\n",
    "        \n",
    "        # tally up ride types\n",
    "        for row in reader:\n",
    "            if row['user_type'] == 'Subscriber':\n",
    "                n_subscribers += 1\n",
    "            elif row['user_type'] == 'Customer':\n",
    "                n_customers += 1\n",
    "        \n",
    "        # compute total number of rides\n",
    "        n_total = n_subscribers + n_customers\n",
    "        \n",
    "        # compute proportion of trips made by subscribers\n",
    "        percent_subscribers = round(n_subscribers/n_total * 100, 1)\n",
    "        \n",
    "        # compute proportion of trips made by short-term customer\n",
    "        percent_customers = round(n_customers/n_total * 100, 1)\n",
    "        \n",
    "        # return tallies as a tuple\n",
    "        return('Total number of bike users:', n_total, 'Number of subscribers:', n_subscribers, 'Proportion of subscribers (percent):', percent_subscribers, \n",
    "               'Number of customers:', n_customers, 'Proportion of customers (percent):', percent_customers)"
   ]
  },
  {
   "cell_type": "code",
   "execution_count": 129,
   "metadata": {},
   "outputs": [
    {
     "name": "stdout",
     "output_type": "stream",
     "text": [
      "\n",
      "City: BayArea\n",
      "('Total number of bike users:', 6299, 'Number of subscribers:', 5666, 'Proportion of subscribers (percent):', 90.0, 'Number of customers:', 633, 'Proportion of customers (percent):', 10.0)\n",
      "\n",
      "City: Washington\n",
      "('Total number of bike users:', 66326, 'Number of subscribers:', 51753, 'Proportion of subscribers (percent):', 78.0, 'Number of customers:', 14573, 'Proportion of customers (percent):', 22.0)\n",
      "\n",
      "City: Chicago\n",
      "('Total number of bike users:', 72131, 'Number of subscribers:', 54982, 'Proportion of subscribers (percent):', 76.2, 'Number of customers:', 17149, 'Proportion of customers (percent):', 23.8)\n",
      "\n",
      "City: NYC\n",
      "('Total number of bike users:', 276081, 'Number of subscribers:', 245896, 'Proportion of subscribers (percent):', 89.1, 'Number of customers:', 30185, 'Proportion of customers (percent):', 10.9)\n"
     ]
    }
   ],
   "source": [
    "## Modify this and the previous cell to answer Question 4a. Remember to run ##\n",
    "## the function on the cleaned data files you created from Question 3.      ##\n",
    "\n",
    "data_files = ['./examples/BayArea-Y3-Summary.csv',\n",
    "              './data/Washington-2016-Summary.csv',\n",
    "              './data/Chicago-2016-Summary.csv',\n",
    "              './data/NYC-2016-Summary.csv']\n",
    "\n",
    "for data_file in data_files:\n",
    "    print(number_of_trips(data_file))"
   ]
  },
  {
   "cell_type": "markdown",
   "metadata": {},
   "source": [
    "> **Tip**: In order to add additional cells to a notebook, you can use the \"Insert Cell Above\" and \"Insert Cell Below\" options from the menu bar above. There is also an icon in the toolbar for adding new cells, with additional icons for moving the cells up and down the document. By default, new cells are of the code type; you can also specify the cell type (e.g. Code or Markdown) of selected cells from the Cell menu or the dropdown in the toolbar.\n",
    "\n",
    "Now, you will write your own code to continue investigating properties of the data.\n",
    "\n",
    "**Question 4b**: Bike-share systems are designed for riders to take short trips. Most of the time, users are allowed to take trips of 30 minutes or less with no additional charges, with overage charges made for trips of longer than that duration. What is the average trip length for each city? What proportion of rides made in each city are longer than 30 minutes?\n",
    "\n",
    "**Answer**: The average trip length in Washington is 19 minutes, in Chicago is 17 minutes, in NYC is 16 minutes. The proportion of rides made longer than 30 minutes in Washington is 10.84%, in Chicago is 8.35%, in NYC is 7.32%."
   ]
  },
  {
   "cell_type": "code",
   "execution_count": 130,
   "metadata": {
    "collapsed": true,
    "scrolled": true
   },
   "outputs": [],
   "source": [
    "## Use this and additional cells to answer Question 4b.                 ##\n",
    "##                                                                      ##\n",
    "## HINT: The csv module reads in all of the data as strings, including  ##\n",
    "## numeric values. You will need a function to convert the strings      ##\n",
    "## into an appropriate numeric type before you aggregate data.          ##\n",
    "## TIP: For the Bay Area example, the average trip length is 14 minutes ##\n",
    "## and 3.5% of trips are longer than 30 minutes.                        ##\n",
    "\n",
    "def duration_of_trips(filename):\n",
    "    \"\"\"\n",
    "    This function reads in a file with trip data and reports the average trip length\n",
    "    for each city and the proportion of rides made in each city that are longer than\n",
    "    30 minutes.\n",
    "    \"\"\"\n",
    "    with open(filename, 'r') as f_in:\n",
    "                     \n",
    "        # set up csv reader object\n",
    "        reader = csv.DictReader(f_in)\n",
    "        \n",
    "        # print city name for reference\n",
    "        city = filename.split('-')[0].split('/')[-1]\n",
    "        print('\\nCity: {}'.format(city))\n",
    "        \n",
    "        # initialize count variables\n",
    "        total_of_duration = 0\n",
    "        more_trip_time = 0\n",
    "        less_trip_time = 0\n",
    "        \n",
    "        # tally up duration of trips\n",
    "        for row in reader:\n",
    "            total_of_duration += float(row['duration'])\n",
    "            if float(row['duration'])>=30:\n",
    "                more_trip_time += 1\n",
    "            else:\n",
    "                less_trip_time += 1\n",
    "        \n",
    "        # compute total number of rides\n",
    "        n_total = more_trip_time + less_trip_time\n",
    "        \n",
    "        # compute average duration of rides\n",
    "        avg_duration = round(total_of_duration/n_total)\n",
    "        \n",
    "        # compute trips longer than 30 minutes\n",
    "        over_30 = round(more_trip_time/n_total*100, 1)\n",
    "              \n",
    "        return ('Average trip length (mins):', avg_duration, 'Proportion of rides longer than 30 minutes (percent):', over_30)   "
   ]
  },
  {
   "cell_type": "code",
   "execution_count": 131,
   "metadata": {},
   "outputs": [
    {
     "name": "stdout",
     "output_type": "stream",
     "text": [
      "\n",
      "City: BayArea\n",
      "('Average trip length (mins):', 14, 'Proportion of rides longer than 30 minutes (percent):', 3.5)\n",
      "\n",
      "City: Washington\n",
      "('Average trip length (mins):', 19, 'Proportion of rides longer than 30 minutes (percent):', 10.8)\n",
      "\n",
      "City: Chicago\n",
      "('Average trip length (mins):', 17, 'Proportion of rides longer than 30 minutes (percent):', 8.3)\n",
      "\n",
      "City: NYC\n",
      "('Average trip length (mins):', 16, 'Proportion of rides longer than 30 minutes (percent):', 7.3)\n"
     ]
    }
   ],
   "source": [
    "## Report \n",
    "\n",
    "data_files = ['./examples/BayArea-Y3-Summary.csv',\n",
    "              './data/Washington-2016-Summary.csv',\n",
    "              './data/Chicago-2016-Summary.csv',\n",
    "              './data/NYC-2016-Summary.csv']\n",
    "\n",
    "for data_file in data_files:\n",
    "    print(duration_of_trips(data_file))"
   ]
  },
  {
   "cell_type": "markdown",
   "metadata": {},
   "source": [
    "**Question 4c**: Dig deeper into the question of trip duration based on ridership. Choose one city. Within that city, which type of user takes longer rides on average: Subscribers or Customers?\n",
    "\n",
    "**Answer**: I choose Washington. Customers here take longer rides on average. The average subscriber trip duration is 12.5 minutes, whereas the average customer trip duration ís 41.7 minutes.\n",
    "\n",
    "I print other cities' results for my own reference."
   ]
  },
  {
   "cell_type": "code",
   "execution_count": 132,
   "metadata": {
    "collapsed": true
   },
   "outputs": [],
   "source": [
    "## Use this and additional cells to answer Question 4c. If you have    ##\n",
    "## not done so yet, consider revising some of your previous code to    ##\n",
    "## make use of functions for reusability.                              ##\n",
    "##                                                                     ##\n",
    "## TIP: For the Bay Area example data, you should find the average     ##\n",
    "## Subscriber trip duration to be 9.5 minutes and the average Customer ##\n",
    "## trip duration to be 54.6 minutes. Do the other cities have this     ##\n",
    "## level of difference?                                                ##\n",
    "\n",
    "def user_of_trips(filename):\n",
    "    \"\"\"\n",
    "    This function reads in a file with trip data and reports the number of\n",
    "    trips made by subscribers, customers, and total overall.\n",
    "    \"\"\"\n",
    "    with open(filename, 'r') as f_in:\n",
    "        # print city name for reference\n",
    "        city = filename.split('-')[0].split('/')[-1]\n",
    "        print('\\nCity: {}'.format(city))\n",
    "        \n",
    "        # set up csv reader object\n",
    "        reader = csv.DictReader(f_in)\n",
    "        # initialize count variables\n",
    "        total_duration_sub = 0\n",
    "        total_duration_cus = 0\n",
    "        n_subscribers = 0\n",
    "        n_customers = 0\n",
    "                \n",
    "        # tally up number of riders\n",
    "        for row in reader:\n",
    "            if row['user_type'] == 'Subscriber':\n",
    "                n_subscribers += 1\n",
    "                total_duration_sub += float(row['duration'])\n",
    "            elif row['user_type'] == 'Customer':\n",
    "                n_customers += 1\n",
    "                total_duration_cus += float(row['duration'])\n",
    "        \n",
    "        # compute the average duration for subscribers\n",
    "        avg_duration_sub = round(total_duration_sub/n_subscribers, 1)\n",
    "        \n",
    "        # compute the average duration for customers\n",
    "        avg_duration_cus = round(total_duration_cus/n_customers, 1)\n",
    "       \n",
    "        return('Subscriber Total Duration (mins):', round(total_duration_sub),'Number of Subscribers', n_subscribers,'Subscriber Average Trip Duration (mins):', avg_duration_sub,\n",
    "              'Customer Total Duration (mins):', round(total_duration_cus),'Number of Customers', n_customers,'Customer Average Trip Duration (mins):', avg_duration_cus)"
   ]
  },
  {
   "cell_type": "code",
   "execution_count": 133,
   "metadata": {},
   "outputs": [
    {
     "name": "stdout",
     "output_type": "stream",
     "text": [
      "\n",
      "City: BayArea\n",
      "('Subscriber Total Duration (mins):', 53899, 'Number of Subscribers', 5666, 'Subscriber Average Trip Duration (mins):', 9.5, 'Customer Total Duration (mins):', 34531, 'Number of Customers', 633, 'Customer Average Trip Duration (mins):', 54.6)\n",
      "\n",
      "City: Washington\n",
      "('Subscriber Total Duration (mins):', 648368, 'Number of Subscribers', 51753, 'Subscriber Average Trip Duration (mins):', 12.5, 'Customer Total Duration (mins):', 607374, 'Number of Customers', 14573, 'Customer Average Trip Duration (mins):', 41.7)\n",
      "\n",
      "City: Chicago\n",
      "('Subscriber Total Duration (mins):', 663479, 'Number of Subscribers', 54982, 'Subscriber Average Trip Duration (mins):', 12.1, 'Customer Total Duration (mins):', 531272, 'Number of Customers', 17149, 'Customer Average Trip Duration (mins):', 31.0)\n",
      "\n",
      "City: NYC\n",
      "('Subscriber Total Duration (mins):', 3364052, 'Number of Subscribers', 245896, 'Subscriber Average Trip Duration (mins):', 13.7, 'Customer Total Duration (mins):', 995562, 'Number of Customers', 30185, 'Customer Average Trip Duration (mins):', 33.0)\n"
     ]
    }
   ],
   "source": [
    "## Report\n",
    "data_files = ['./examples/BayArea-Y3-Summary.csv',\n",
    "              './data/Washington-2016-Summary.csv',\n",
    "              './data/Chicago-2016-Summary.csv',\n",
    "              './data/NYC-2016-Summary.csv']\n",
    "\n",
    "for data_file in data_files:\n",
    "    print(user_of_trips(data_file))"
   ]
  },
  {
   "cell_type": "markdown",
   "metadata": {},
   "source": [
    "<a id='visualizations'></a>\n",
    "### Visualizations\n",
    "\n",
    "The last set of values that you computed should have pulled up an interesting result. While the mean trip time for Subscribers is well under 30 minutes, the mean trip time for Customers is actually _above_ 30 minutes! It will be interesting for us to look at how the trip times are distributed. In order to do this, a new library will be introduced here, `matplotlib`. Run the cell below to load the library and to generate an example plot."
   ]
  },
  {
   "cell_type": "code",
   "execution_count": 134,
   "metadata": {},
   "outputs": [
    {
     "data": {
      "image/png": "[encoded data removed]",
      "text/plain": [
       "<matplotlib.figure.Figure at 0x7fe8bcca2390>"
      ]
     },
     "metadata": {},
     "output_type": "display_data"
    }
   ],
   "source": [
    "# load library\n",
    "import matplotlib.pyplot as plt\n",
    "\n",
    "# this is a 'magic word' that allows for plots to be displayed\n",
    "# inline with the notebook. If you want to know more, see:\n",
    "# http://ipython.readthedocs.io/en/stable/interactive/magics.html\n",
    "%matplotlib inline \n",
    "\n",
    "# example histogram, data taken from bay area sample\n",
    "data = [ 7.65,  8.92,  7.42,  5.50, 16.17,  4.20,  8.98,  9.62, 11.48, 14.33,\n",
    "        19.02, 21.53,  3.90,  7.97,  2.62,  2.67,  3.08, 14.40, 12.90,  7.83,\n",
    "        25.12,  8.30,  4.93, 12.43, 10.60,  6.17, 10.88,  4.78, 15.15,  3.53,\n",
    "         9.43, 13.32, 11.72,  9.85,  5.22, 15.10,  3.95,  3.17,  8.78,  1.88,\n",
    "         4.55, 12.68, 12.38,  9.78,  7.63,  6.45, 17.38, 11.90, 11.52,  8.63,]\n",
    "plt.hist(data)\n",
    "plt.title('Distribution of Trip Durations')\n",
    "plt.xlabel('Duration (m)')\n",
    "plt.show()"
   ]
  },
  {
   "cell_type": "markdown",
   "metadata": {},
   "source": [
    "In the above cell, we collected fifty trip times in a list, and passed this list as the first argument to the `.hist()` function. This function performs the computations and creates plotting objects for generating a histogram, but the plot is actually not rendered until the `.show()` function is executed. The `.title()` and `.xlabel()` functions provide some labeling for plot context.\n",
    "\n",
    "You will now use these functions to create a histogram of the trip times for the city you selected in question 4c. Don't separate the Subscribers and Customers for now: just collect all of the trip times and plot them."
   ]
  },
  {
   "cell_type": "code",
   "execution_count": 135,
   "metadata": {},
   "outputs": [
    {
     "name": "stdout",
     "output_type": "stream",
     "text": [
      "\n",
      "City: Washington\n"
     ]
    },
    {
     "data": {
      "image/png": "[encoded data removed]",
      "text/plain": [
       "<matplotlib.figure.Figure at 0x7fe8bc742e80>"
      ]
     },
     "metadata": {},
     "output_type": "display_data"
    },
    {
     "name": "stdout",
     "output_type": "stream",
     "text": [
      "\n",
      "City: Chicago\n"
     ]
    },
    {
     "data": {
      "image/png": "[encoded data removed]",
      "text/plain": [
       "<matplotlib.figure.Figure at 0x7fe8bd1af320>"
      ]
     },
     "metadata": {},
     "output_type": "display_data"
    },
    {
     "name": "stdout",
     "output_type": "stream",
     "text": [
      "\n",
      "City: NYC\n"
     ]
    },
    {
     "data": {
      "image/png": "[encoded data removed]",
      "text/plain": [
       "<matplotlib.figure.Figure at 0x7fe8bc800748>"
      ]
     },
     "metadata": {},
     "output_type": "display_data"
    }
   ],
   "source": [
    "## Use this and additional cells to collect all of the trip times as a list ##\n",
    "## and then use pyplot functions to generate a histogram of trip times.     ##\n",
    "import csv\n",
    "import matplotlib.pyplot as plt\n",
    "\n",
    "%matplotlib inline\n",
    "\n",
    "def trip_time(filename):\n",
    "    with open(filename, 'r') as f_in:\n",
    "        # print city name for reference\n",
    "        city = filename.split('-')[0].split('/')[-1]\n",
    "        print('\\nCity: {}'.format(city))\n",
    "        \n",
    "        # set up cvs reader object\n",
    "        reader = csv.DictReader(f_in)\n",
    "        \n",
    "        # initialize data\n",
    "        duration = []\n",
    "        \n",
    "        # append data\n",
    "        for row in reader:\n",
    "            duration.append(float(row['duration']))\n",
    "        return duration\n",
    "        \n",
    "data_files = ['./data/Washington-2016-Summary.csv',\n",
    "              './data/Chicago-2016-Summary.csv',\n",
    "              './data/NYC-2016-Summary.csv']\n",
    "\n",
    "for data_file in data_files:\n",
    "    plt.hist(trip_time(data_file))\n",
    "    plt.title('Distribution of Trip Durations')\n",
    "    plt.xlabel('Duration (m)')\n",
    "    plt.show()    "
   ]
  },
  {
   "cell_type": "markdown",
   "metadata": {},
   "source": [
    "If you followed the use of the `.hist()` and `.show()` functions exactly like in the example, you're probably looking at a plot that's completely unexpected. The plot consists of one extremely tall bar on the left, maybe a very short second bar, and a whole lot of empty space in the center and right. Take a look at the duration values on the x-axis. This suggests that there are some highly infrequent outliers in the data. Instead of reprocessing the data, you will use additional parameters with the `.hist()` function to limit the range of data that is plotted. Documentation for the function can be found [[here]](https://matplotlib.org/devdocs/api/_as_gen/matplotlib.pyplot.hist.html#matplotlib.pyplot.hist).\n",
    "\n",
    "**Question 5**: Use the parameters of the `.hist()` function to plot the distribution of trip times for the Subscribers in your selected city. Do the same thing for only the Customers. Add limits to the plots so that only trips of duration less than 75 minutes are plotted. As a bonus, set the plots up so that bars are in five-minute wide intervals. For each group, where is the peak of each distribution? How would you describe the shape of each distribution?\n",
    "\n",
    "**Answer**: I choose Washington. For the Subscribers in Washington, the peak of the distribution is the 5-10 minute bin with around 17,500 requencies. For the Customers in Washington, the peak of the distribution is the 15-20 minute bin with almost 3,000 requencies. The shape of each distribution is right-skewed, and the mean is greater than the median.\n",
    "\n",
    "I print other cities' results for my own reference."
   ]
  },
  {
   "cell_type": "code",
   "execution_count": 136,
   "metadata": {},
   "outputs": [
    {
     "name": "stdout",
     "output_type": "stream",
     "text": [
      "\n",
      "City: Washington\n"
     ]
    },
    {
     "data": {
      "image/png": "[encoded data removed]",
      "text/plain": [
       "<matplotlib.figure.Figure at 0x7fe8bc68c2b0>"
      ]
     },
     "metadata": {},
     "output_type": "display_data"
    },
    {
     "name": "stdout",
     "output_type": "stream",
     "text": [
      "\n",
      "City: Chicago\n"
     ]
    },
    {
     "data": {
      "image/png": "[encoded data removed]",
      "text/plain": [
       "<matplotlib.figure.Figure at 0x7fe8bc091390>"
      ]
     },
     "metadata": {},
     "output_type": "display_data"
    },
    {
     "name": "stdout",
     "output_type": "stream",
     "text": [
      "\n",
      "City: NYC\n"
     ]
    },
    {
     "data": {
      "image/png": "[encoded data removed]",
      "text/plain": [
       "<matplotlib.figure.Figure at 0x7fe8bc72ff28>"
      ]
     },
     "metadata": {},
     "output_type": "display_data"
    }
   ],
   "source": [
    "## Use this and additional cells to answer Question 5. ##\n",
    "\n",
    "import csv\n",
    "import matplotlib.pyplot as plt\n",
    "\n",
    "%matplotlib inline\n",
    "\n",
    "def subscriber_time(filename):\n",
    "    with open(filename, 'r') as f_in:\n",
    "        # print city name for reference\n",
    "        city = filename.split('-')[0].split('/')[-1]\n",
    "        print('\\nCity: {}'.format(city))\n",
    "        \n",
    "        # set up cvs reader object\n",
    "        reader = csv.DictReader(f_in)\n",
    "        \n",
    "        # initialize data\n",
    "        duration_sub = []\n",
    "              \n",
    "        # append data\n",
    "        for row in reader:\n",
    "            if row['user_type'] == 'Subscriber' and float(row['duration']) <= 75:\n",
    "                duration_sub.append(float(row['duration']))\n",
    "        return (duration_sub) \n",
    "\n",
    "data_files = ['./data/Washington-2016-Summary.csv',\n",
    "              './data/Chicago-2016-Summary.csv',\n",
    "              './data/NYC-2016-Summary.csv']\n",
    "\n",
    "for data_file in data_files:\n",
    "    bins = [0,5,10,15,20,25,30,35,40,45,50,55,60,65,70,75]\n",
    "    plt.hist(subscriber_time(data_file), bins)\n",
    "    plt.title('Distribution of Subscriber Durations')\n",
    "    plt.xlabel('Duration (m)')\n",
    "    plt.show()"
   ]
  },
  {
   "cell_type": "code",
   "execution_count": 137,
   "metadata": {},
   "outputs": [
    {
     "name": "stdout",
     "output_type": "stream",
     "text": [
      "\n",
      "City: Washington\n"
     ]
    },
    {
     "data": {
      "image/png": "[encoded data removed]",
      "text/plain": [
       "<matplotlib.figure.Figure at 0x7fe8bc0454a8>"
      ]
     },
     "metadata": {},
     "output_type": "display_data"
    },
    {
     "name": "stdout",
     "output_type": "stream",
     "text": [
      "\n",
      "City: Chicago\n"
     ]
    },
    {
     "data": {
      "image/png": "[encoded data removed]",
      "text/plain": [
       "<matplotlib.figure.Figure at 0x7fe8bc5eb908>"
      ]
     },
     "metadata": {},
     "output_type": "display_data"
    },
    {
     "name": "stdout",
     "output_type": "stream",
     "text": [
      "\n",
      "City: NYC\n"
     ]
    },
    {
     "data": {
      "image/png": "[encoded data removed]",
      "text/plain": [
       "<matplotlib.figure.Figure at 0x7fe8bc7978d0>"
      ]
     },
     "metadata": {},
     "output_type": "display_data"
    }
   ],
   "source": [
    "## Use this and additional cells to answer Question 5. ##\n",
    "\n",
    "import csv\n",
    "import matplotlib.pyplot as plt\n",
    "\n",
    "%matplotlib inline\n",
    "\n",
    "def customer_time(filename):\n",
    "    with open(filename, 'r') as f_in:\n",
    "        # print city name for reference\n",
    "        city = filename.split('-')[0].split('/')[-1]\n",
    "        print('\\nCity: {}'.format(city))\n",
    "        \n",
    "        # set up cvs reader object\n",
    "        reader = csv.DictReader(f_in)\n",
    "        \n",
    "        # initialize data\n",
    "        duration_cus = []\n",
    "        \n",
    "        # append data\n",
    "        for row in reader:\n",
    "            if row['user_type'] == 'Customer' and float(row['duration']) <= 75:\n",
    "                duration_cus.append(float(row['duration']))\n",
    "        return (duration_cus)\n",
    "  \n",
    "data_files = ['./data/Washington-2016-Summary.csv',\n",
    "              './data/Chicago-2016-Summary.csv',\n",
    "              './data/NYC-2016-Summary.csv']\n",
    "\n",
    "for data_file in data_files:\n",
    "    bins = [0,5,10,15,20,25,30,35,40,45,50,55,60,65,70,75]\n",
    "    plt.hist(customer_time(data_file), bins)\n",
    "    plt.title('Distribution of Customer Durations')\n",
    "    plt.xlabel('Duration (m)')\n",
    "    plt.show()\n"
   ]
  },
  {
   "cell_type": "markdown",
   "metadata": {
    "collapsed": true
   },
   "source": [
    "<a id='eda_continued'></a>\n",
    "## Performing Your Own Analysis\n",
    "\n",
    "So far, you've performed an initial exploration into the data available. You have compared the relative volume of trips made between three U.S. cities and the ratio of trips made by Subscribers and Customers. For one of these cities, you have investigated differences between Subscribers and Customers in terms of how long a typical trip lasts. Now it is your turn to continue the exploration in a direction that you choose. Here are a few suggestions for questions to explore:\n",
    "\n",
    "- How does ridership differ by month or season? Which month / season has the highest ridership? Does the ratio of Subscriber trips to Customer trips change depending on the month or season?\n",
    "- Is the pattern of ridership different on the weekends versus weekdays? On what days are Subscribers most likely to use the system? What about Customers? Does the average duration of rides change depending on the day of the week?\n",
    "- During what time of day is the system used the most? Is there a difference in usage patterns for Subscribers and Customers?\n",
    "\n",
    "If any of the questions you posed in your answer to question 1 align with the bullet points above, this is a good opportunity to investigate one of them. As part of your investigation, you will need to create a visualization. If you want to create something other than a histogram, then you might want to consult the [Pyplot documentation](https://matplotlib.org/devdocs/api/pyplot_summary.html). In particular, if you are plotting values across a categorical variable (e.g. city, user type), a bar chart will be useful. The [documentation page for `.bar()`](https://matplotlib.org/devdocs/api/_as_gen/matplotlib.pyplot.bar.html#matplotlib.pyplot.bar) includes links at the bottom of the page with examples for you to build off of for your own use.\n",
    "\n",
    "**Question 6**: Continue the investigation by exploring another question that could be answered by the data available. Document the question you want to explore below. Your investigation should involve at least two variables and should compare at least two groups. You should also use at least one visualization as part of your explorations.\n",
    "\n",
    "**Answer**: I'm interested in knowing how ridering differs on the weekends versus weekdays. I want to know on what days Subscribers are most likely to use the system and on what days Customers are most likely to use the system. In addition, I want to know if the average duration of rides change depending on the day of the week.\n",
    "\n"
   ]
  },
  {
   "cell_type": "markdown",
   "metadata": {},
   "source": [
    "### Is ridership different on the weekends versus weekdays? \n",
    "**Answer**: In Washington, trips on weekdays account for about three quarters of the total trips. The proportion of trips on weekdays is 74.2%, whereas that on weekends is 25.8%. "
   ]
  },
  {
   "cell_type": "code",
   "execution_count": 138,
   "metadata": {
    "collapsed": true
   },
   "outputs": [],
   "source": [
    "## Use this and additional cells to continue to explore the dataset. ##\n",
    "## Once you have performed your exploration, document your findings  ##\n",
    "## in the Markdown cell above.                                       ##\n",
    "\n",
    "import csv \n",
    "\n",
    "def pattern_of_trips(filename):\n",
    "    \"\"\"\n",
    "    This function reads in a file with trip data and reports the number of\n",
    "    trips made on the weekends veus weekdays.\n",
    "    \"\"\"\n",
    "    with open(filename, 'r') as f_in:\n",
    "        # print city name for reference:\n",
    "        city = filename.split('-')[0].split('/')[-1]\n",
    "        print('\\nCity: {}'.format(city))\n",
    "        \n",
    "        # set up csv reader object\n",
    "        reader = csv.DictReader(f_in)\n",
    "        \n",
    "        # initialize count variables\n",
    "        trip_weekdays = 0\n",
    "        trip_weekends = 0\n",
    "        \n",
    "        # tally up trips\n",
    "        for row in reader:\n",
    "            if row['day_of_week']=='Monday' or row['day_of_week']=='Tuesday' or row['day_of_week']=='Wednesday' or row['day_of_week']=='Thursday' or row['day_of_week']=='Friday':\n",
    "                trip_weekdays += 1\n",
    "            if row['day_of_week']=='Saturday' or row['day_of_week']=='Sunday':\n",
    "                trip_weekends += 1\n",
    "        \n",
    "        # compute total number of rides\n",
    "        trip_total = trip_weekdays + trip_weekends\n",
    "        \n",
    "        # compute proportion of trips made on weekdays\n",
    "        percent_weekdays = round(trip_weekdays/trip_total * 100, 1)\n",
    "        \n",
    "        # compute propotion of trips made on weekends\n",
    "        percent_weekends = round(trip_weekends/trip_total * 100, 1)\n",
    "        \n",
    "        return('Total number of trips:', trip_total, 'Trips on weekdays:', trip_weekdays, 'Proportion of trips on weekdays (percent):', percent_weekdays, \n",
    "               'Trips on weekends:', trip_weekends, 'Proportion of trips on weekends (percent):', percent_weekends)"
   ]
  },
  {
   "cell_type": "code",
   "execution_count": 139,
   "metadata": {},
   "outputs": [
    {
     "name": "stdout",
     "output_type": "stream",
     "text": [
      "\n",
      "City: Washington\n",
      "('Total number of trips:', 66326, 'Trips on weekdays:', 49199, 'Proportion of trips on weekdays (percent):', 74.2, 'Trips on weekends:', 17127, 'Proportion of trips on weekends (percent):', 25.8)\n",
      "\n",
      "City: Chicago\n",
      "('Total number of trips:', 72131, 'Trips on weekdays:', 52550, 'Proportion of trips on weekdays (percent):', 72.9, 'Trips on weekends:', 19581, 'Proportion of trips on weekends (percent):', 27.1)\n",
      "\n",
      "City: NYC\n",
      "('Total number of trips:', 276798, 'Trips on weekdays:', 212093, 'Proportion of trips on weekdays (percent):', 76.6, 'Trips on weekends:', 64705, 'Proportion of trips on weekends (percent):', 23.4)\n"
     ]
    }
   ],
   "source": [
    "## Report\n",
    "data_files = ['./data/Washington-2016-Summary.csv',\n",
    "              './data/Chicago-2016-Summary.csv',\n",
    "              './data/NYC-2016-Summary.csv']\n",
    "\n",
    "for data_file in data_files:\n",
    "    print(pattern_of_trips(data_file))"
   ]
  },
  {
   "cell_type": "markdown",
   "metadata": {},
   "source": [
    "### On what days are Subscribers most likely to use the system? What about Customers?\n",
    "**Answer**: In Washington, Subscribers are most likely to use the system on Wednesday. Customers are most likely to use the system on Saturday."
   ]
  },
  {
   "cell_type": "code",
   "execution_count": 140,
   "metadata": {},
   "outputs": [
    {
     "name": "stdout",
     "output_type": "stream",
     "text": [
      "day_of_week  user_type \n",
      "Friday       Customer      2012\n",
      "             Subscriber    7958\n",
      "Monday       Customer      1736\n",
      "             Subscriber    7658\n",
      "Saturday     Customer      3311\n",
      "             Subscriber    5589\n",
      "Sunday       Customer      2975\n",
      "             Subscriber    5252\n",
      "Thursday     Customer      1530\n",
      "             Subscriber    8454\n",
      "Tuesday      Customer      1426\n",
      "             Subscriber    8322\n",
      "Wednesday    Customer      1583\n",
      "             Subscriber    8520\n",
      "Name: duration, dtype: int64\n"
     ]
    },
    {
     "data": {
      "image/png": "[encoded data removed]",
      "text/plain": [
       "<matplotlib.figure.Figure at 0x7fe8bc8c6c88>"
      ]
     },
     "metadata": {},
     "output_type": "display_data"
    }
   ],
   "source": [
    "## Use this cell to vizualize the dataset. ##\n",
    "import numpy as np\n",
    "import pandas as pd\n",
    "import matplotlib.pyplot as plt\n",
    "\n",
    "%matplotlib inline\n",
    "\n",
    "# read the dataframe\n",
    "washington_df = pd.read_csv('./data/Washington-2016-Summary.csv') \n",
    "\n",
    "# Group by day of week and user type\n",
    "washington_df_day_user = washington_df.groupby(['day_of_week', 'user_type'])\n",
    "\n",
    "# Count the number of user for each day and each user type\n",
    "counts_user = washington_df_day_user.count()['duration']\n",
    "print(counts_user)\n",
    "\n",
    "# Plot the graph\n",
    "colors = [['blue', 'gray']]\n",
    "counts_user.plot(kind='bar', color = colors)\n",
    "plt.title('Distribution of Trips Every Day')\n",
    "plt.xlabel('User Type and Day')\n",
    "plt.ylabel('Count')\n",
    "plt.show()"
   ]
  },
  {
   "cell_type": "markdown",
   "metadata": {},
   "source": [
    "### Does the average duration of rides change depending on the day of the week?\n",
    "**Answer**: The average duration of rides are the longest on the weekends, with Saturday having the longest average duration (approximately 25 minutes), followed by Sunday (approximately 24 minutes). Wednesday has the lowest average duration of rides (approximately 16 minutes). The average duration of ride is the longest for both Subscribers and Customers on Saturday."
   ]
  },
  {
   "cell_type": "code",
   "execution_count": 141,
   "metadata": {},
   "outputs": [
    {
     "name": "stdout",
     "output_type": "stream",
     "text": [
      "day_of_week\n",
      "Friday       17.931890\n",
      "Monday       17.563755\n",
      "Saturday     24.811503\n",
      "Sunday       23.972443\n",
      "Thursday     16.685824\n",
      "Tuesday      16.691084\n",
      "Wednesday    16.294893\n",
      "Name: duration, dtype: float64\n"
     ]
    },
    {
     "data": {
      "image/png": "[encoded data removed]",
      "text/plain": [
       "<matplotlib.figure.Figure at 0x7fe8bc70dfd0>"
      ]
     },
     "metadata": {},
     "output_type": "display_data"
    }
   ],
   "source": [
    "# Group by day of week and average duration\n",
    "washington_df_day_duration = washington_df.groupby(['day_of_week'])\n",
    "average_duration = washington_df_day_duration.mean()['duration']\n",
    "\n",
    "print(average_duration)\n",
    "\n",
    "# Plot the graph\n",
    "colors = [['#78C850',  \n",
    "          '#F08030',  \n",
    "          '#6890F0',  \n",
    "          '#A8B820', \n",
    "          '#F8D030',  \n",
    "          '#E0C068', \n",
    "          '#98D8D8',  \n",
    "                    ]]\n",
    "average_duration.plot(kind='bar', color = colors)\n",
    "plt.title('Distribution of Average Duration Day')\n",
    "plt.xlabel('Day')\n",
    "plt.ylabel('Mean Duration (m)')\n",
    "plt.show()"
   ]
  },
  {
   "cell_type": "code",
   "execution_count": 145,
   "metadata": {},
   "outputs": [
    {
     "name": "stdout",
     "output_type": "stream",
     "text": [
      "day_of_week  user_type \n",
      "Friday       Customer      40.715875\n",
      "             Subscriber    12.171476\n",
      "Monday       Customer      40.752832\n",
      "             Subscriber    12.306999\n",
      "Saturday     Customer      44.589926\n",
      "             Subscriber    13.094494\n",
      "Sunday       Customer      43.429348\n",
      "             Subscriber    12.951062\n",
      "Thursday     Customer      39.685053\n",
      "             Subscriber    12.523436\n",
      "Tuesday      Customer      41.777629\n",
      "             Subscriber    12.392428\n",
      "Wednesday    Customer      36.370252\n",
      "             Subscriber    12.564929\n",
      "Name: duration, dtype: float64\n"
     ]
    },
    {
     "data": {
      "image/png": "[encoded data removed]",
      "text/plain": [
       "<matplotlib.figure.Figure at 0x7fe8bd911dd8>"
      ]
     },
     "metadata": {},
     "output_type": "display_data"
    }
   ],
   "source": [
    "# Group by day of week and user type and average duration\n",
    "washington_df_day_duration = washington_df.groupby(['day_of_week', 'user_type'])\n",
    "average_duration_user = washington_df_day_duration.mean()['duration']\n",
    "\n",
    "print(average_duration_user)\n",
    "\n",
    "# Plot the graph\n",
    "colors = [['blue', 'gray']]\n",
    "average_duration_user.plot(kind='bar', color = colors)\n",
    "plt.title('Distribution of Average Duration by User Type and Day')\n",
    "plt.xlabel('User Type and Day')\n",
    "plt.ylabel('Mean Duration (m)')\n",
    "plt.show()"
   ]
  },
  {
   "cell_type": "markdown",
   "metadata": {},
   "source": [
    "<a id='conclusions'></a>\n",
    "## Conclusions\n",
    "\n",
    "Congratulations on completing the project! This is only a sampling of the data analysis process: from generating questions, wrangling the data, and to exploring the data. Normally, at this point in the data analysis process, you might want to draw conclusions about the data by performing a statistical test or fitting the data to a model for making predictions. There are also a lot of potential analyses that could be performed on the data which are not possible with only the data provided. For example, detailed location data has not been investigated. Where are the most commonly used docks? What are the most common routes? As another example, weather has potential to have a large impact on daily ridership. How much is ridership impacted when there is rain or snow? Are subscribers or customers affected more by changes in weather?\n",
    "\n",
    "**Question 7**: Putting the bike share data aside, think of a topic or field of interest where you would like to be able to apply the techniques of data science. What would you like to be able to learn from your chosen subject?\n",
    "\n",
    "**Answer**: I'm interested in using data science in the internet industry. I want to learn how to do targeted marketing based on customers' demographics and interests. I want to do A/B testing based on change in different features. I also want to be able to make viral content and optimize money from Facebook, YouTube and Google.\n",
    "\n",
    "> **Tip**: If we want to share the results of our analysis with others, we aren't limited to giving them a copy of the jupyter Notebook (.ipynb) file. We can also export the Notebook output in a form that can be opened even for those without Python installed. From the **File** menu in the upper left, go to the **Download as** submenu. You can then choose a different format that can be viewed more generally, such as HTML (.html) or\n",
    "PDF (.pdf). You may need additional packages or software to perform these exports.\n",
    "\n",
    "> If you are working on this project via the Project Notebook page in the classroom, you can also submit this project directly from the workspace. **Before you do that**, you should save an HTML copy of the completed project to the workspace by running the code cell below. If it worked correctly, the output code should be a 0, and if you click on the jupyter icon in the upper left, you should see your .html document in the workspace directory. Alternatively, you can download the .html copy of your report following the steps in the previous paragraph, then _upload_ the report to the directory (by clicking the jupyter icon).\n",
    "\n",
    "> Either way, once you've gotten the .html report in your workspace, you can complete your submission by clicking on the \"Submit Project\" button to the lower-right hand side of the workspace."
   ]
  },
  {
   "cell_type": "code",
   "execution_count": 147,
   "metadata": {},
   "outputs": [
    {
     "data": {
      "text/plain": [
       "0"
      ]
     },
     "execution_count": 147,
     "metadata": {},
     "output_type": "execute_result"
    }
   ],
   "source": [
    "from subprocess import call\n",
    "call(['python', '-m', 'nbconvert', 'Bike_Share_Analysis.ipynb'])"
   ]
  },
  {
   "cell_type": "markdown",
   "metadata": {
    "collapsed": true
   },
   "source": [
    "### Resources:\n",
    "- https://elitedatascience.com/python-seaborn-tutorial\n",
    "- https://pandas.pydata.org/pandas-docs/stable/generated/pandas.DataFrame.groupby.html\n",
    "- https://matplotlib.org/devdocs/index.html"
   ]
  },
  {
   "cell_type": "code",
   "execution_count": null,
   "metadata": {
    "collapsed": true
   },
   "outputs": [],
   "source": []
  }
 ],
 "metadata": {
  "anaconda-cloud": {},
  "kernelspec": {
   "display_name": "Python 3",
   "language": "python",
   "name": "python3"
  },
  "language_info": {
   "codemirror_mode": {
    "name": "ipython",
    "version": 3
   },
   "file_extension": ".py",
   "mimetype": "text/x-python",
   "name": "python",
   "nbconvert_exporter": "python",
   "pygments_lexer": "ipython3",
   "version": "3.6.4"
  }
 },
 "nbformat": 4,
 "nbformat_minor": 1
}
